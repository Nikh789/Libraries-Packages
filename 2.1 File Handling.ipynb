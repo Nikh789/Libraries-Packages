{
 "cells": [
  {
   "cell_type": "markdown",
   "id": "26b641aa",
   "metadata": {},
   "source": [
    "# File Handling"
   ]
  },
  {
   "cell_type": "code",
   "execution_count": 2,
   "id": "80c43143",
   "metadata": {},
   "outputs": [],
   "source": [
    "# The key function for working with file in python is open() function\n",
    "# The open() function takes two parameters: filename and mode\n",
    "#    \"r\"- Read- Deafault value. Opens a file for reading, error if it doesn't exist\n",
    "#    \"a\"- Append. Opens a file for appending, creates the file if it doesn't exist\n",
    "#    \"w\"- Write. Opens a file for writing, creates the file if it doesn't exist\n",
    "#    \"x\"- Create. Creates the specified file, returns an error if the file exists\n",
    "#    \"t\"- Text. Default value. Text mode\n",
    "#    \"b\"- Binary- Binary mode(eg images)\n",
    "#    \"+\"- Open a file for updating (reading and writing)"
   ]
  },
  {
   "cell_type": "code",
   "execution_count": 3,
   "id": "d2679419",
   "metadata": {},
   "outputs": [
    {
     "data": {
      "text/plain": [
       "'C:\\\\Users\\\\nikhi'"
      ]
     },
     "execution_count": 3,
     "metadata": {},
     "output_type": "execute_result"
    }
   ],
   "source": [
    "# Python will save in default path to know the path\n",
    "# To change the directory\n",
    "# Syntax- os.chdir\n",
    "\n",
    "import os\n",
    "os.getcwd()"
   ]
  },
  {
   "cell_type": "code",
   "execution_count": 4,
   "id": "d8142c34",
   "metadata": {},
   "outputs": [
    {
     "ename": "FileNotFoundError",
     "evalue": "[Errno 2] No such file or directory: 'python.txt'",
     "output_type": "error",
     "traceback": [
      "\u001b[1;31m---------------------------------------------------------------------------\u001b[0m",
      "\u001b[1;31mFileNotFoundError\u001b[0m                         Traceback (most recent call last)",
      "\u001b[1;32m<ipython-input-4-76c317e71740>\u001b[0m in \u001b[0;36m<module>\u001b[1;34m\u001b[0m\n\u001b[1;32m----> 1\u001b[1;33m \u001b[0mf\u001b[0m \u001b[1;33m=\u001b[0m \u001b[0mopen\u001b[0m\u001b[1;33m(\u001b[0m\u001b[1;34m\"python.txt\"\u001b[0m\u001b[1;33m)\u001b[0m\u001b[1;33m\u001b[0m\u001b[1;33m\u001b[0m\u001b[0m\n\u001b[0m\u001b[0;32m      2\u001b[0m \u001b[0mf\u001b[0m\u001b[1;33m\u001b[0m\u001b[1;33m\u001b[0m\u001b[0m\n",
      "\u001b[1;31mFileNotFoundError\u001b[0m: [Errno 2] No such file or directory: 'python.txt'"
     ]
    }
   ],
   "source": [
    "f = open(\"python.txt\")\n",
    "f"
   ]
  },
  {
   "cell_type": "code",
   "execution_count": 5,
   "id": "60e97686",
   "metadata": {},
   "outputs": [],
   "source": [
    "# Write to an existing file \n",
    "# \"a\" Append will append to the end of the file\n",
    "# \"w\" Write will over write any existing content"
   ]
  },
  {
   "cell_type": "code",
   "execution_count": 6,
   "id": "2ffcf0ec",
   "metadata": {},
   "outputs": [
    {
     "data": {
      "text/plain": [
       "50"
      ]
     },
     "execution_count": 6,
     "metadata": {},
     "output_type": "execute_result"
    }
   ],
   "source": [
    "file2 = open(\"python.txt\", mode = \"w\")\n",
    "file2.write(\"this is a new test document which has more content\")"
   ]
  },
  {
   "cell_type": "code",
   "execution_count": null,
   "id": "e7c574dc",
   "metadata": {},
   "outputs": [],
   "source": []
  }
 ],
 "metadata": {
  "kernelspec": {
   "display_name": "Python 3",
   "language": "python",
   "name": "python3"
  },
  "language_info": {
   "codemirror_mode": {
    "name": "ipython",
    "version": 3
   },
   "file_extension": ".py",
   "mimetype": "text/x-python",
   "name": "python",
   "nbconvert_exporter": "python",
   "pygments_lexer": "ipython3",
   "version": "3.8.8"
  }
 },
 "nbformat": 4,
 "nbformat_minor": 5
}
