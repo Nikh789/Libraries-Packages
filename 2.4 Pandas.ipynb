{
 "cells": [
  {
   "cell_type": "markdown",
   "id": "bbcb8a31",
   "metadata": {},
   "source": [
    "# PANDAS"
   ]
  },
  {
   "cell_type": "code",
   "execution_count": 1,
   "id": "d28ce253",
   "metadata": {},
   "outputs": [],
   "source": [
    "# PANDAS- It's a python package providing fast, flexible and expressive data structures designed\n",
    "# Pandas is top of numpy\n",
    "# Pandas is built on two data structures \n",
    "# 1. Series- It is one dimensinal labelled array capable of holding any datatype\n",
    "# Series(data, index=index)\n",
    "# Series will be created in Array, Dictm, Scalar value or constant\n",
    "# 2. Dataframe"
   ]
  },
  {
   "cell_type": "code",
   "execution_count": 2,
   "id": "17e4cba6",
   "metadata": {},
   "outputs": [
    {
     "data": {
      "text/plain": [
       "array(['s', 'o', 'c', 'i', 'a', 'l'], dtype='<U1')"
      ]
     },
     "execution_count": 2,
     "metadata": {},
     "output_type": "execute_result"
    }
   ],
   "source": [
    "# Creating a series from ndarray\n",
    "# import the pandas library and aliasing as pf\n",
    "import numpy as np\n",
    "import pandas as pd\n",
    "test = np.array(['s','o','c','i','a','l'])\n",
    "test"
   ]
  },
  {
   "cell_type": "code",
   "execution_count": 4,
   "id": "7c1caee9",
   "metadata": {},
   "outputs": [
    {
     "data": {
      "text/plain": [
       "0    s\n",
       "1    o\n",
       "2    c\n",
       "3    i\n",
       "4    a\n",
       "5    l\n",
       "dtype: object"
      ]
     },
     "execution_count": 4,
     "metadata": {},
     "output_type": "execute_result"
    }
   ],
   "source": [
    "s = pd.Series(test)\n",
    "s"
   ]
  },
  {
   "cell_type": "code",
   "execution_count": 5,
   "id": "3bdfd6f6",
   "metadata": {},
   "outputs": [
    {
     "data": {
      "text/plain": [
       "1    s\n",
       "2    o\n",
       "3    c\n",
       "4    i\n",
       "5    a\n",
       "6    l\n",
       "dtype: object"
      ]
     },
     "execution_count": 5,
     "metadata": {},
     "output_type": "execute_result"
    }
   ],
   "source": [
    "test = np.array(['s','o','c','i','a','l'])\n",
    "s = pd.Series(test,index = {1,2,3,4,5,6})\n",
    "s"
   ]
  },
  {
   "cell_type": "code",
   "execution_count": 6,
   "id": "b4b144db",
   "metadata": {},
   "outputs": [
    {
     "data": {
      "text/plain": [
       "1    q\n",
       "2    r\n",
       "dtype: object"
      ]
     },
     "execution_count": 6,
     "metadata": {},
     "output_type": "execute_result"
    }
   ],
   "source": [
    "# Dict\n",
    "# Dictionary keys are taken in sorted order to construct index\n",
    "test = {1:'q', 2:'r'}\n",
    "s = pd.Series(test)\n",
    "s"
   ]
  },
  {
   "cell_type": "code",
   "execution_count": 7,
   "id": "2f868ddf",
   "metadata": {},
   "outputs": [
    {
     "data": {
      "text/plain": [
       "0    2\n",
       "1    2\n",
       "2    2\n",
       "dtype: int64"
      ]
     },
     "execution_count": 7,
     "metadata": {},
     "output_type": "execute_result"
    }
   ],
   "source": [
    "# Scalar\n",
    "# If the data have repeated value then we have to match the index (so index value will be repeating)\n",
    "x = pd.Series(2, index=[0,1,2])\n",
    "x"
   ]
  },
  {
   "cell_type": "code",
   "execution_count": 8,
   "id": "01bff42a",
   "metadata": {},
   "outputs": [
    {
     "data": {
      "text/plain": [
       "s    1\n",
       "o    2\n",
       "c    3\n",
       "i    4\n",
       "a    5\n",
       "l    6\n",
       "dtype: int64"
      ]
     },
     "execution_count": 8,
     "metadata": {},
     "output_type": "execute_result"
    }
   ],
   "source": [
    "# Series indexing\n",
    "s = pd.Series([1,2,3,4,5,6], index = ['s','o','c','i','a','l'])\n",
    "s"
   ]
  },
  {
   "cell_type": "code",
   "execution_count": null,
   "id": "e2fbf023",
   "metadata": {},
   "outputs": [],
   "source": []
  }
 ],
 "metadata": {
  "kernelspec": {
   "display_name": "Python 3",
   "language": "python",
   "name": "python3"
  },
  "language_info": {
   "codemirror_mode": {
    "name": "ipython",
    "version": 3
   },
   "file_extension": ".py",
   "mimetype": "text/x-python",
   "name": "python",
   "nbconvert_exporter": "python",
   "pygments_lexer": "ipython3",
   "version": "3.8.8"
  }
 },
 "nbformat": 4,
 "nbformat_minor": 5
}
