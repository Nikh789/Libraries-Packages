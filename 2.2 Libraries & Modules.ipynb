{
 "cells": [
  {
   "cell_type": "markdown",
   "id": "e190dbfc",
   "metadata": {},
   "source": [
    "# Libraries"
   ]
  },
  {
   "cell_type": "code",
   "execution_count": 1,
   "id": "26216a0f",
   "metadata": {},
   "outputs": [],
   "source": [
    "# LIBRARIES are predefined code\n",
    "# Using libraries we can use the functions or methods which are not in built\n",
    "# We use modules to break down large programs into small manageable and organized files\n",
    "# Furthermore modules provide reusability of code\n"
   ]
  },
  {
   "cell_type": "code",
   "execution_count": 5,
   "id": "0f03a848",
   "metadata": {},
   "outputs": [],
   "source": [
    "# IMPORT keyword to use libraries\n",
    "# Syntax:\n",
    "#        import ModuleName\n",
    "#        import PackageName"
   ]
  },
  {
   "cell_type": "code",
   "execution_count": 6,
   "id": "c1051f96",
   "metadata": {},
   "outputs": [],
   "source": [
    "import math\n",
    "import time"
   ]
  },
  {
   "cell_type": "code",
   "execution_count": 7,
   "id": "3140559b",
   "metadata": {},
   "outputs": [
    {
     "data": {
      "text/plain": [
       "3.141592653589793"
      ]
     },
     "execution_count": 7,
     "metadata": {},
     "output_type": "execute_result"
    }
   ],
   "source": [
    "math.pi"
   ]
  },
  {
   "cell_type": "code",
   "execution_count": 8,
   "id": "a004a04c",
   "metadata": {},
   "outputs": [
    {
     "data": {
      "text/plain": [
       "1630817801.488414"
      ]
     },
     "execution_count": 8,
     "metadata": {},
     "output_type": "execute_result"
    }
   ],
   "source": [
    "time.time()"
   ]
  },
  {
   "cell_type": "code",
   "execution_count": 9,
   "id": "2a145400",
   "metadata": {},
   "outputs": [
    {
     "name": "stdout",
     "output_type": "stream",
     "text": [
      "Sleep for 8 hours\n",
      "wake up\n"
     ]
    }
   ],
   "source": [
    "print(\"Sleep for 8 hours\")\n",
    "time.sleep(8)\n",
    "print(\"wake up\")"
   ]
  },
  {
   "cell_type": "code",
   "execution_count": 12,
   "id": "9cc63403",
   "metadata": {},
   "outputs": [
    {
     "name": "stdout",
     "output_type": "stream",
     "text": [
      "2021-09-05 10:29:22.057818\n"
     ]
    }
   ],
   "source": [
    "import datetime\n",
    "x = datetime.datetime.now()\n",
    "print(x)"
   ]
  },
  {
   "cell_type": "code",
   "execution_count": 13,
   "id": "0a84275a",
   "metadata": {},
   "outputs": [
    {
     "name": "stdout",
     "output_type": "stream",
     "text": [
      "2021\n"
     ]
    }
   ],
   "source": [
    "import datetime\n",
    "x = datetime.datetime.now()\n",
    "print(x.year)"
   ]
  },
  {
   "cell_type": "code",
   "execution_count": 14,
   "id": "8dcd387f",
   "metadata": {},
   "outputs": [
    {
     "name": "stdout",
     "output_type": "stream",
     "text": [
      "2020-05-07 00:00:00\n"
     ]
    }
   ],
   "source": [
    "import datetime\n",
    "x = datetime.datetime(2020, 5, 7)\n",
    "print(x)"
   ]
  },
  {
   "cell_type": "code",
   "execution_count": 16,
   "id": "d959dab9",
   "metadata": {},
   "outputs": [
    {
     "name": "stdout",
     "output_type": "stream",
     "text": [
      "8.0\n"
     ]
    }
   ],
   "source": [
    "import math\n",
    "x = math.sqrt(64)\n",
    "print(x)"
   ]
  },
  {
   "cell_type": "code",
   "execution_count": 17,
   "id": "6b95112a",
   "metadata": {},
   "outputs": [
    {
     "data": {
      "text/plain": [
       "6.0"
      ]
     },
     "execution_count": 17,
     "metadata": {},
     "output_type": "execute_result"
    }
   ],
   "source": [
    "math.sqrt(36)"
   ]
  },
  {
   "cell_type": "code",
   "execution_count": 15,
   "id": "5e80d6a0",
   "metadata": {},
   "outputs": [
    {
     "name": "stdout",
     "output_type": "stream",
     "text": [
      "2\n",
      "1\n"
     ]
    }
   ],
   "source": [
    "import math\n",
    "x = math.ceil(1.4)\n",
    "y = math.floor(1.4)\n",
    "print(x)\n",
    "print(y)"
   ]
  },
  {
   "cell_type": "code",
   "execution_count": 18,
   "id": "8f35410f",
   "metadata": {},
   "outputs": [],
   "source": [
    "# Syntax \n",
    "# Packages are collection of modules\n",
    "# Import package name.libraryname\n",
    "# from packagename import library name "
   ]
  },
  {
   "cell_type": "code",
   "execution_count": null,
   "id": "d14d6232",
   "metadata": {},
   "outputs": [],
   "source": [
    "# PIP\n",
    "# PIP is a package manager for Python packages or modules\n",
    "# Syntax\n",
    "# pip install modulename\n",
    "# Open the command prompt (anaconda prompt) then run this code to install the module\n",
    "# Some example to install external modules\n",
    "# 1. pip install pytroch\n",
    "# 2. pip install keras\n",
    "# 3. pip install tensorflow"
   ]
  }
 ],
 "metadata": {
  "kernelspec": {
   "display_name": "Python 3",
   "language": "python",
   "name": "python3"
  },
  "language_info": {
   "codemirror_mode": {
    "name": "ipython",
    "version": 3
   },
   "file_extension": ".py",
   "mimetype": "text/x-python",
   "name": "python",
   "nbconvert_exporter": "python",
   "pygments_lexer": "ipython3",
   "version": "3.8.8"
  }
 },
 "nbformat": 4,
 "nbformat_minor": 5
}
